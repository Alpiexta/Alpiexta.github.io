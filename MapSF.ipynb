{
 "cells": [
  {
   "cell_type": "code",
   "execution_count": 1,
   "id": "6aa0fcfb",
   "metadata": {},
   "outputs": [],
   "source": [
    "import json\n",
    "import numpy as np\n",
    "import pandas as pd\n",
    "import plotly.express as px\n",
    "import matplotlib.pyplot as plt\n",
    "import seaborn as sns\n",
    "from functools import reduce\n",
    "from urllib.request import urlopen\n",
    "import folium\n",
    "import branca\n",
    "import scipy as sp\n",
    "import scipy.ndimage\n",
    "import geojsoncontour\n",
    "from math import radians\n",
    "from folium import plugins\n",
    "from scipy.interpolate import griddata\n",
    "from sklearn.metrics.pairwise import haversine_distances\n",
    "import folium\n",
    "from sklearn.cluster import KMeans\n",
    "from folium.plugins import MousePosition\n",
    "import warnings\n",
    "from pyecharts.charts import Pie, Bar, Map, WordCloud,Line,Grid,Scatter,Radar,Page \n",
    "from pyecharts import options as opts\n",
    "from pyecharts.globals import SymbolType\n",
    "from pyecharts.globals import ThemeType\n",
    "from pyecharts.charts import Bar, Line, Grid,Tab\n",
    "from pyecharts.globals import ThemeType\n",
    "from pyecharts.globals import CurrentConfig, NotebookType\n",
    "from pyecharts.render import make_snapshot\n",
    "from pyecharts.commons.utils import JsCode\n",
    "from pyecharts.charts import Grid, Tab\n",
    "warnings.filterwarnings(\"ignore\")\n",
    "from datetime import datetime\n",
    "from bokeh.plotting import figure, show\n",
    "from bokeh.plotting import *\n",
    "from bokeh.models import ColumnDataSource\n",
    "from bokeh.models import Legend\n",
    "from bokeh.plotting import figure, show, output_file\n",
    "from bokeh.palettes import *\n",
    "from bokeh.resources import CDN\n",
    "from bokeh.embed import file_html\n",
    "from bokeh.palettes import Spectral6\n",
    "from bokeh.transform import factor_cmap\n",
    "from bokeh.embed import components\n",
    "from bokeh.io import output_file, show\n",
    "from bokeh.plotting import figure\n",
    "from bokeh.embed import file_html\n",
    "%matplotlib inline"
   ]
  },
  {
   "cell_type": "code",
   "execution_count": 2,
   "id": "b27ade29",
   "metadata": {},
   "outputs": [],
   "source": [
    "df = pd.read_csv('Fire_Incidents.csv')\n",
    "# select variables that we need\n",
    "df1 = df[['Incident Number', 'Address', 'Incident Date','Primary Situation','point',\"Suppression Personnel\",'Action Taken Primary',\n",
    "          'Item First Ignited','Ignition Cause', 'Alarm DtTm', 'Arrival DtTm',\n",
    "          'Close DtTm', 'Area of Fire Origin']]\n",
    "\n",
    "#clean data\n",
    "df1.dropna(inplace = True)\n",
    "df2 = df1[df1['Item First Ignited'] != \"-\"]\n",
    "df3 = df2[df2['Action Taken Primary'] != \"-\"]\n",
    "df4 = df3[df3['Area of Fire Origin'] != \"-\"] \n",
    "\n",
    "# select the date from 2003-01-01 to 2019-12-31\n",
    "df4['Date'] = df4['Incident Date'].str.slice(0,10)\n",
    "df5=df4[df4['Date']  <=  \"2019-12-31\"]\n",
    "\n",
    "# split the longitudes and  latitude\n",
    "a = df5.point.str.slice(7,-1)\n",
    "longitudes = []\n",
    "latitudes = []\n",
    "\n",
    "for location in list(a):\n",
    "    values = str(location).split()\n",
    "    if len(values) == 1:\n",
    "        longitude, latitude = None, None\n",
    "    else:\n",
    "        longitude, latitude = map(float, values)\n",
    "    longitudes.append(longitude)\n",
    "    latitudes.append(latitude)\n",
    "    \n",
    "df5['longitude'] = longitudes\n",
    "df5['latitudes'] = latitudes"
   ]
  },
  {
   "cell_type": "code",
   "execution_count": 3,
   "id": "9684d4b7",
   "metadata": {},
   "outputs": [
    {
     "data": {
      "application/vnd.jupyter.widget-view+json": {
       "model_id": "978266a4f21d46daab75592eb6495f2c",
       "version_major": 2,
       "version_minor": 0
      },
      "text/plain": [
       "interactive(children=(Dropdown(description='year', options=('2008', '2003', '2004', '2005', '2006', '2007', '2…"
      ]
     },
     "metadata": {},
     "output_type": "display_data"
    },
    {
     "data": {
      "text/plain": [
       "<function __main__.plot_fire_incidents(year)>"
      ]
     },
     "execution_count": 3,
     "metadata": {},
     "output_type": "execute_result"
    }
   ],
   "source": [
    "from ipywidgets import interact\n",
    "import folium\n",
    "\n",
    "def plot_fire_incidents(year):\n",
    "    m = folium.Map(location=[37.7749,-122.4194], zoom_start=12, tiles='Stamen Terrain') \n",
    "    data = {\n",
    "            'latitude': list(df5[df5['Date'].str.contains(year)][\"latitudes\"]),\n",
    "            'longitude': list(df5[df5['Date'].str.contains(year)][\"longitude\"])\n",
    "            }\n",
    "    df = pd.DataFrame(data)\n",
    "    for index, row in df.iterrows():\n",
    "        folium.CircleMarker([row['latitude'], row['longitude']], radius=0.00001,\n",
    "                            color='red', fill_color='red', fill_opacity=10).add_to(m)\n",
    "\n",
    "    X = df5[df5['Date'].str.contains(year)][[\"latitudes\",\"longitude\"]]\n",
    "    kmeans = KMeans(n_clusters=10, random_state=42)\n",
    "    kmeans.fit(X)\n",
    "    centroids = kmeans.cluster_centers_\n",
    "\n",
    "    MousePosition(position='bottomleft', separator=' | ').add_to(m)\n",
    "    folium.Marker(location=[centroids[0][0], centroids[0][1]],icon=folium.Icon(icon = \"flag\",color='blue')).add_to(m)\n",
    "    folium.Marker(location=[centroids[6][0], centroids[6][1]],icon=folium.Icon(icon = \"flag\",color='blue')).add_to(m)\n",
    "    folium.Marker(location=[centroids[8][0], centroids[8][1]],icon=folium.Icon(icon = \"flag\",color='blue')).add_to(m)\n",
    "    folium.Marker(location=[centroids[3][0], centroids[3][1]],icon=folium.Icon(icon = \"flag\",color='blue'),popup='Centroids 1').add_to(m)\n",
    "\n",
    "    folium.Marker(location=[centroids[2][0], centroids[2][1]],icon=folium.Icon(icon = \"star\",color='green')).add_to(m)\n",
    "    folium.Marker(location=[centroids[9][0], centroids[9][1]],icon=folium.Icon(icon = \"star\",color='green')).add_to(m)\n",
    "    folium.Marker(location=[centroids[1][0], centroids[1][1]],icon=folium.Icon(icon = \"star\",color='green')).add_to(m)\n",
    "\n",
    "    folium.Marker(location=[centroids[5][0], centroids[5][1]],icon=folium.Icon(icon = \"cloud\",color='gray')).add_to(m)\n",
    "    folium.Marker(location=[centroids[4][0], centroids[4][1]],icon=folium.Icon(icon = \"cloud\",color='gray')).add_to(m)\n",
    "\n",
    "    folium.Marker(location=[centroids[7][0], centroids[7][1]],icon=folium.Icon(icon = \"play\",color='green')).add_to(m)\n",
    "    \n",
    "    return m\n",
    "\n",
    "interact(plot_fire_incidents, year=list(df5['Date'].str.slice(0, 4).unique()))\n"
   ]
  },
  {
   "cell_type": "code",
   "execution_count": null,
   "id": "a454b57e",
   "metadata": {},
   "outputs": [],
   "source": []
  }
 ],
 "metadata": {
  "kernelspec": {
   "display_name": "Python 3 (ipykernel)",
   "language": "python",
   "name": "python3"
  },
  "language_info": {
   "codemirror_mode": {
    "name": "ipython",
    "version": 3
   },
   "file_extension": ".py",
   "mimetype": "text/x-python",
   "name": "python",
   "nbconvert_exporter": "python",
   "pygments_lexer": "ipython3",
   "version": "3.9.13"
  }
 },
 "nbformat": 4,
 "nbformat_minor": 5
}
